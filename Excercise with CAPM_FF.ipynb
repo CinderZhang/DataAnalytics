{
 "cells": [
  {
   "cell_type": "code",
   "execution_count": 1,
   "metadata": {},
   "outputs": [],
   "source": [
    "import pandas as pd\n",
    "import numpy as np \n",
    "\n",
    "import statsmodels.formula.api as sm # module for stats models\n",
    "from statsmodels.iolib.summary2 import summary_col # module for presenting stats models outputs nicely"
   ]
  },
  {
   "cell_type": "code",
   "execution_count": 2,
   "metadata": {},
   "outputs": [],
   "source": [
    "def price2ret(prices,retType='simple'):\n",
    "    if retType == 'simple':\n",
    "        ret = (prices/prices.shift(1))-1\n",
    "    else:\n",
    "        ret = np.log(prices/prices.shift(1))\n",
    "    return ret"
   ]
  },
  {
   "cell_type": "code",
   "execution_count": 3,
   "metadata": {},
   "outputs": [],
   "source": [
    "def assetPriceReg(df_stk):\n",
    "    import pandas_datareader.data as web  # module for reading datasets directly from the web\n",
    "    \n",
    "    # Reading in factor data\n",
    "    df_factors = web.DataReader('F-F_Research_Data_5_Factors_2x3_daily', 'famafrench')[0]\n",
    "    df_factors.rename(columns={'Mkt-RF': 'MKT'}, inplace=True)\n",
    "    df_factors['MKT'] = df_factors['MKT']/100\n",
    "    df_factors['SMB'] = df_factors['SMB']/100\n",
    "    df_factors['HML'] = df_factors['HML']/100\n",
    "    df_factors['RMW'] = df_factors['RMW']/100\n",
    "    df_factors['CMA'] = df_factors['CMA']/100\n",
    "    \n",
    "    df_stock_factor = pd.merge(df_stk,df_factors,left_index=True,right_index=True) # Merging the stock and factor returns dataframes together\n",
    "    df_stock_factor['XsRet'] = df_stock_factor['Returns'] - df_stock_factor['RF'] # Calculating excess returns\n",
    "\n",
    "    # Running CAPM, FF3, and FF5 models.\n",
    "    CAPM = sm.ols(formula = 'XsRet ~ MKT', data=df_stock_factor).fit(cov_type='HAC',cov_kwds={'maxlags':1})\n",
    "    FF3 = sm.ols( formula = 'XsRet ~ MKT + SMB + HML', data=df_stock_factor).fit(cov_type='HAC',cov_kwds={'maxlags':1})\n",
    "    FF5 = sm.ols( formula = 'XsRet ~ MKT + SMB + HML + RMW + CMA', data=df_stock_factor).fit(cov_type='HAC',cov_kwds={'maxlags':1})\n",
    "\n",
    "    CAPMtstat = CAPM.tvalues\n",
    "    FF3tstat = FF3.tvalues\n",
    "    FF5tstat = FF5.tvalues\n",
    "\n",
    "    CAPMcoeff = CAPM.params\n",
    "    FF3coeff = FF3.params\n",
    "    FF5coeff = FF5.params\n",
    "\n",
    "    # DataFrame with coefficients and t-stats\n",
    "    results_df = pd.DataFrame({'CAPMcoeff':CAPMcoeff,'CAPMtstat':CAPMtstat,\n",
    "                               'FF3coeff':FF3coeff, 'FF3tstat':FF3tstat,\n",
    "                               'FF5coeff':FF5coeff, 'FF5tstat':FF5tstat},\n",
    "    index = ['Intercept', 'MKT', 'SMB', 'HML', 'RMW', 'CMA'])\n",
    "\n",
    "\n",
    "    dfoutput = summary_col([CAPM,FF3, FF5],stars=True,float_format='%0.4f',\n",
    "                  model_names=['CAPM','FF3','FF5'],\n",
    "                  info_dict={'N':lambda x: \"{0:d}\".format(int(x.nobs)),\n",
    "                             'Adjusted R2':lambda x: \"{:.4f}\".format(x.rsquared_adj)}, \n",
    "                             regressor_order = ['Intercept', 'MKT', 'SMB', 'HML', 'RMW', 'CMA'])\n",
    "\n",
    "    print(dfoutput)\n",
    "    \n",
    "    return results_df"
   ]
  },
  {
   "cell_type": "code",
   "execution_count": 4,
   "metadata": {},
   "outputs": [
    {
     "name": "stdout",
     "output_type": "stream",
     "text": [
      "C:\\Users\\xz035\n"
     ]
    }
   ],
   "source": [
    "from pathlib import Path\n",
    "import sys\n",
    "import os\n",
    "\n",
    "home = str(Path.home())\n",
    "print(home)"
   ]
  },
  {
   "cell_type": "code",
   "execution_count": 5,
   "metadata": {},
   "outputs": [
    {
     "name": "stdout",
     "output_type": "stream",
     "text": [
      "C:\\Users\\xz035\\datasets\\stocks\\\n"
     ]
    }
   ],
   "source": [
    "\n",
    "\n",
    "if sys.platform == 'linux':\n",
    "    inputDir = '/datasets/stocks/' \n",
    "elif sys.platform == 'win32':\n",
    "    inputDir = '\\\\datasets\\stocks\\\\' \n",
    "\n",
    "fullDir = home+inputDir\n",
    "print(fullDir)"
   ]
  },
  {
   "cell_type": "code",
   "execution_count": 6,
   "metadata": {
    "scrolled": true
   },
   "outputs": [
    {
     "data": {
      "text/html": [
       "<div>\n",
       "<style scoped>\n",
       "    .dataframe tbody tr th:only-of-type {\n",
       "        vertical-align: middle;\n",
       "    }\n",
       "\n",
       "    .dataframe tbody tr th {\n",
       "        vertical-align: top;\n",
       "    }\n",
       "\n",
       "    .dataframe thead th {\n",
       "        text-align: right;\n",
       "    }\n",
       "</style>\n",
       "<table border=\"1\" class=\"dataframe\">\n",
       "  <thead>\n",
       "    <tr style=\"text-align: right;\">\n",
       "      <th></th>\n",
       "      <th>Open</th>\n",
       "      <th>High</th>\n",
       "      <th>Low</th>\n",
       "      <th>Close</th>\n",
       "      <th>Adj Close</th>\n",
       "      <th>Volume</th>\n",
       "    </tr>\n",
       "    <tr>\n",
       "      <th>Date</th>\n",
       "      <th></th>\n",
       "      <th></th>\n",
       "      <th></th>\n",
       "      <th></th>\n",
       "      <th></th>\n",
       "      <th></th>\n",
       "    </tr>\n",
       "  </thead>\n",
       "  <tbody>\n",
       "    <tr>\n",
       "      <th>2016-02-12</th>\n",
       "      <td>23.547501</td>\n",
       "      <td>23.625000</td>\n",
       "      <td>23.252501</td>\n",
       "      <td>23.497499</td>\n",
       "      <td>21.855232</td>\n",
       "      <td>161405600</td>\n",
       "    </tr>\n",
       "    <tr>\n",
       "      <th>2016-02-16</th>\n",
       "      <td>23.754999</td>\n",
       "      <td>24.212500</td>\n",
       "      <td>23.652500</td>\n",
       "      <td>24.160000</td>\n",
       "      <td>22.471428</td>\n",
       "      <td>196231600</td>\n",
       "    </tr>\n",
       "    <tr>\n",
       "      <th>2016-02-17</th>\n",
       "      <td>24.167500</td>\n",
       "      <td>24.552500</td>\n",
       "      <td>24.037500</td>\n",
       "      <td>24.530001</td>\n",
       "      <td>22.815565</td>\n",
       "      <td>179452800</td>\n",
       "    </tr>\n",
       "    <tr>\n",
       "      <th>2016-02-18</th>\n",
       "      <td>24.709999</td>\n",
       "      <td>24.722500</td>\n",
       "      <td>24.022499</td>\n",
       "      <td>24.065001</td>\n",
       "      <td>22.383070</td>\n",
       "      <td>156084000</td>\n",
       "    </tr>\n",
       "    <tr>\n",
       "      <th>2016-02-19</th>\n",
       "      <td>24.000000</td>\n",
       "      <td>24.190001</td>\n",
       "      <td>23.950001</td>\n",
       "      <td>24.010000</td>\n",
       "      <td>22.331917</td>\n",
       "      <td>141496800</td>\n",
       "    </tr>\n",
       "  </tbody>\n",
       "</table>\n",
       "</div>"
      ],
      "text/plain": [
       "                 Open       High        Low      Close  Adj Close     Volume\n",
       "Date                                                                        \n",
       "2016-02-12  23.547501  23.625000  23.252501  23.497499  21.855232  161405600\n",
       "2016-02-16  23.754999  24.212500  23.652500  24.160000  22.471428  196231600\n",
       "2016-02-17  24.167500  24.552500  24.037500  24.530001  22.815565  179452800\n",
       "2016-02-18  24.709999  24.722500  24.022499  24.065001  22.383070  156084000\n",
       "2016-02-19  24.000000  24.190001  23.950001  24.010000  22.331917  141496800"
      ]
     },
     "execution_count": 6,
     "metadata": {},
     "output_type": "execute_result"
    }
   ],
   "source": [
    "stkName = 'AAPL'\n",
    "fileName = 'stk_' + stkName + '.csv'\n",
    "readFile = fullDir+fileName \n",
    "\n",
    "df_stk = pd.read_csv(readFile,index_col='Date',parse_dates=True)\n",
    "df_stk.head()"
   ]
  },
  {
   "cell_type": "code",
   "execution_count": 7,
   "metadata": {},
   "outputs": [
    {
     "data": {
      "text/plain": [
       "<matplotlib.axes._subplots.AxesSubplot at 0x1f940a2cd90>"
      ]
     },
     "execution_count": 7,
     "metadata": {},
     "output_type": "execute_result"
    },
    {
     "data": {
      "image/png": "[encoded data removed]",
      "text/plain": [
       "<Figure size 432x288 with 1 Axes>"
      ]
     },
     "metadata": {
      "needs_background": "light"
     },
     "output_type": "display_data"
    }
   ],
   "source": [
    "df_stk.drop(['Volume'],axis=1,inplace=True)\n",
    "df_stk.plot()"
   ]
  },
  {
   "cell_type": "code",
   "execution_count": 8,
   "metadata": {},
   "outputs": [
    {
     "data": {
      "text/html": [
       "<div>\n",
       "<style scoped>\n",
       "    .dataframe tbody tr th:only-of-type {\n",
       "        vertical-align: middle;\n",
       "    }\n",
       "\n",
       "    .dataframe tbody tr th {\n",
       "        vertical-align: top;\n",
       "    }\n",
       "\n",
       "    .dataframe thead th {\n",
       "        text-align: right;\n",
       "    }\n",
       "</style>\n",
       "<table border=\"1\" class=\"dataframe\">\n",
       "  <thead>\n",
       "    <tr style=\"text-align: right;\">\n",
       "      <th></th>\n",
       "      <th>Open</th>\n",
       "      <th>High</th>\n",
       "      <th>Low</th>\n",
       "      <th>Close</th>\n",
       "      <th>Adj Close</th>\n",
       "      <th>Returns</th>\n",
       "    </tr>\n",
       "    <tr>\n",
       "      <th>Date</th>\n",
       "      <th></th>\n",
       "      <th></th>\n",
       "      <th></th>\n",
       "      <th></th>\n",
       "      <th></th>\n",
       "      <th></th>\n",
       "    </tr>\n",
       "  </thead>\n",
       "  <tbody>\n",
       "    <tr>\n",
       "      <th>2016-02-16</th>\n",
       "      <td>23.754999</td>\n",
       "      <td>24.212500</td>\n",
       "      <td>23.652500</td>\n",
       "      <td>24.160000</td>\n",
       "      <td>22.471428</td>\n",
       "      <td>0.028194</td>\n",
       "    </tr>\n",
       "    <tr>\n",
       "      <th>2016-02-17</th>\n",
       "      <td>24.167500</td>\n",
       "      <td>24.552500</td>\n",
       "      <td>24.037500</td>\n",
       "      <td>24.530001</td>\n",
       "      <td>22.815565</td>\n",
       "      <td>0.015314</td>\n",
       "    </tr>\n",
       "    <tr>\n",
       "      <th>2016-02-18</th>\n",
       "      <td>24.709999</td>\n",
       "      <td>24.722500</td>\n",
       "      <td>24.022499</td>\n",
       "      <td>24.065001</td>\n",
       "      <td>22.383070</td>\n",
       "      <td>-0.018956</td>\n",
       "    </tr>\n",
       "    <tr>\n",
       "      <th>2016-02-19</th>\n",
       "      <td>24.000000</td>\n",
       "      <td>24.190001</td>\n",
       "      <td>23.950001</td>\n",
       "      <td>24.010000</td>\n",
       "      <td>22.331917</td>\n",
       "      <td>-0.002285</td>\n",
       "    </tr>\n",
       "    <tr>\n",
       "      <th>2016-02-22</th>\n",
       "      <td>24.077499</td>\n",
       "      <td>24.225000</td>\n",
       "      <td>23.980000</td>\n",
       "      <td>24.219999</td>\n",
       "      <td>22.527231</td>\n",
       "      <td>0.008746</td>\n",
       "    </tr>\n",
       "  </tbody>\n",
       "</table>\n",
       "</div>"
      ],
      "text/plain": [
       "                 Open       High        Low      Close  Adj Close   Returns\n",
       "Date                                                                       \n",
       "2016-02-16  23.754999  24.212500  23.652500  24.160000  22.471428  0.028194\n",
       "2016-02-17  24.167500  24.552500  24.037500  24.530001  22.815565  0.015314\n",
       "2016-02-18  24.709999  24.722500  24.022499  24.065001  22.383070 -0.018956\n",
       "2016-02-19  24.000000  24.190001  23.950001  24.010000  22.331917 -0.002285\n",
       "2016-02-22  24.077499  24.225000  23.980000  24.219999  22.527231  0.008746"
      ]
     },
     "execution_count": 8,
     "metadata": {},
     "output_type": "execute_result"
    }
   ],
   "source": [
    "df_stk['Returns'] = price2ret(df_stk[['Adj Close']])\n",
    "df_stk = df_stk.dropna()\n",
    "df_stk.head()"
   ]
  },
  {
   "cell_type": "code",
   "execution_count": 9,
   "metadata": {},
   "outputs": [
    {
     "data": {
      "text/plain": [
       "<matplotlib.axes._subplots.AxesSubplot at 0x1f941239730>"
      ]
     },
     "execution_count": 9,
     "metadata": {},
     "output_type": "execute_result"
    },
    {
     "data": {
      "image/png": "[encoded data removed]",
      "text/plain": [
       "<Figure size 432x288 with 1 Axes>"
      ]
     },
     "metadata": {
      "needs_background": "light"
     },
     "output_type": "display_data"
    }
   ],
   "source": [
    "df_stk['Returns'].plot()"
   ]
  },
  {
   "cell_type": "code",
   "execution_count": 10,
   "metadata": {},
   "outputs": [
    {
     "data": {
      "text/plain": [
       "<matplotlib.axes._subplots.AxesSubplot at 0x1f9412c2fd0>"
      ]
     },
     "execution_count": 10,
     "metadata": {},
     "output_type": "execute_result"
    },
    {
     "data": {
      "image/png": "[encoded data removed]",
      "text/plain": [
       "<Figure size 432x288 with 1 Axes>"
      ]
     },
     "metadata": {
      "needs_background": "light"
     },
     "output_type": "display_data"
    }
   ],
   "source": [
    "df_stk['Returns'].hist(bins=30)"
   ]
  },
  {
   "cell_type": "code",
   "execution_count": 11,
   "metadata": {},
   "outputs": [
    {
     "name": "stdout",
     "output_type": "stream",
     "text": [
      "\n",
      "============================================\n",
      "               CAPM       FF3        FF5    \n",
      "--------------------------------------------\n",
      "Intercept   -0.0035*** -0.0037*** -0.0038***\n",
      "            (0.0004)   (0.0004)   (0.0004)  \n",
      "MKT         1.1703***  1.2509***  1.2456*** \n",
      "            (0.0390)   (0.0355)   (0.0377)  \n",
      "SMB                    -0.3046*** -0.2512***\n",
      "                       (0.0706)   (0.0661)  \n",
      "HML                    -0.4201*** -0.4720***\n",
      "                       (0.0452)   (0.0578)  \n",
      "RMW                               0.5240*** \n",
      "                                  (0.1017)  \n",
      "CMA                               -0.1009   \n",
      "                                  (0.1618)  \n",
      "R-squared   0.5477     0.6088     0.6192    \n",
      "            0.5481     0.6097     0.6208    \n",
      "N           1230       1230       1230      \n",
      "Adjusted R2 0.5477     0.6088     0.6192    \n",
      "============================================\n",
      "Standard errors in parentheses.\n",
      "* p<.1, ** p<.05, ***p<.01\n"
     ]
    }
   ],
   "source": [
    "df_regOutput = assetPriceReg(df_stk)"
   ]
  }
 ],
 "metadata": {
  "kernelspec": {
   "display_name": "Python 3",
   "language": "python",
   "name": "python3"
  },
  "language_info": {
   "codemirror_mode": {
    "name": "ipython",
    "version": 3
   },
   "file_extension": ".py",
   "mimetype": "text/x-python",
   "name": "python",
   "nbconvert_exporter": "python",
   "pygments_lexer": "ipython3",
   "version": "3.8.3"
  }
 },
 "nbformat": 4,
 "nbformat_minor": 4
}
